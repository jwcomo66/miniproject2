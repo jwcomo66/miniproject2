{
 "cells": [
  {
   "cell_type": "code",
   "execution_count": 1,
   "metadata": {},
   "outputs": [],
   "source": [
    "# Visualise all ratings in MovieLens Dataset\n",
    "# all ratings of ten most popular movies which recieved the most ratings\n",
    "# all ratings of ten best movies with highest average ratings\n",
    "# all ratings of movies from three genres of your choice (three separate visualizations)\n",
    "import matplotlib.pyplot as plt\n",
    "import numpy as np"
   ]
  },
  {
   "cell_type": "code",
   "execution_count": 2,
   "metadata": {},
   "outputs": [],
   "source": [
    "def load_data(filename):\n",
    "    \"\"\"\n",
    "    Function loads data stored in the file filename and returns it as a numpy ndarray.\n",
    "    \n",
    "    Inputs:\n",
    "        filename: given as a string.\n",
    "        \n",
    "    Outputs:\n",
    "        Data contained in the file, returned as a numpy ndarray\n",
    "    \"\"\"\n",
    "    return np.loadtxt(filename, dtype = np.str , delimiter='\\t')"
   ]
  },
  {
   "cell_type": "code",
   "execution_count": 3,
   "metadata": {},
   "outputs": [
    {
     "name": "stdout",
     "output_type": "stream",
     "text": [
      "[[ 196  242    3]\n",
      " [ 186  302    3]\n",
      " [  22  377    1]\n",
      " ...\n",
      " [ 276 1090    1]\n",
      " [  13  225    2]\n",
      " [  12  203    3]]\n"
     ]
    }
   ],
   "source": [
    "data = load_data(\"data/movies.txt\")\n",
    "titles = data[:,0:2]\n",
    "genres = np.delete(data, 1, axis = 1)\n",
    "\n",
    "\n",
    "ratings = load_data(\"data/data.txt\")\n",
    "ratings = ratings.astype(int)\n",
    "print(ratings)"
   ]
  },
  {
   "cell_type": "code",
   "execution_count": 4,
   "metadata": {},
   "outputs": [
    {
     "data": {
      "image/png": "[encoded data removed]",
      "text/plain": [
       "<Figure size 432x288 with 1 Axes>"
      ]
     },
     "metadata": {
      "needs_background": "light"
     },
     "output_type": "display_data"
    }
   ],
   "source": [
    "# Visualise all ratings in MovieLens Dataset\n",
    "# create a histogram of all of the ratings showing how many of each rating was given\n",
    "# report mean and standard deviation\n",
    "\n",
    "plt.hist(ratings[:,2], bins = [.5, 1.5, 2.5, 3.5, 4.5, 5.5], rwidth = .7, color = 'brown')\n",
    "plt.title(\"Histogram of All Movie Ratings\")\n",
    "plt.xlabel(\"Rating\")\n",
    "plt.ylabel(\"Frequency\")\n",
    "plt.show()"
   ]
  },
  {
   "cell_type": "code",
   "execution_count": 5,
   "metadata": {},
   "outputs": [
    {
     "data": {
      "image/png": "[encoded data removed]",
      "text/plain": [
       "<Figure size 432x288 with 1 Axes>"
      ]
     },
     "metadata": {
      "needs_background": "light"
     },
     "output_type": "display_data"
    }
   ],
   "source": [
    "# all ratings of ten most popular movies which recieved the most ratings\n",
    "x = np.transpose(ratings[:,1])\n",
    "counts = np.array(np.unique(x, return_counts = True)).T\n",
    "#print(counts)\n",
    "counts = counts[counts[:,1].argsort()]\n",
    "\n",
    "#print(counts)\n",
    "# popular = np.array([\n",
    "# [121, 429],\n",
    "# [300, 431],\n",
    "# [  1, 452],\n",
    "# [288, 478],\n",
    "# [286, 481],\n",
    "# [294, 485],\n",
    "# [181, 507],\n",
    "# [100, 508],\n",
    "# [258, 509],\n",
    "# [ 50, 583]\n",
    "# ])\n",
    "\n",
    "popular = counts[-10:,:]\n",
    "#print(popular)\n",
    "\n",
    "\n",
    "best_movies = []\n",
    "\n",
    "for i in range(len(popular)):\n",
    "    movie_id = popular[i][0]\n",
    "    for j in range(len(ratings)):\n",
    "        if ratings[j][1] == movie_id:\n",
    "            #append the rating\n",
    "            best_movies.append(ratings[j][2])\n",
    "\n",
    "\n",
    "\n",
    "#print(best_movies)\n",
    "\n",
    "plt.hist(best_movies, bins = [.5, 1.5, 2.5, 3.5, 4.5, 5.5], rwidth = .7, color = 'brown')\n",
    "plt.title(\"Histogram of ratings 10 best (most rated) movies\")\n",
    "plt.xlabel(\"Rating\")\n",
    "plt.ylabel(\"Frequency\")\n",
    "plt.show()\n"
   ]
  },
  {
   "cell_type": "code",
   "execution_count": 6,
   "metadata": {
    "scrolled": true
   },
   "outputs": [
    {
     "data": {
      "image/png": "[encoded data removed]",
      "text/plain": [
       "<Figure size 432x288 with 1 Axes>"
      ]
     },
     "metadata": {
      "needs_background": "light"
     },
     "output_type": "display_data"
    }
   ],
   "source": [
    "popular_titles = []\n",
    "popular_ratings = popular[:,1]\n",
    "for i in range(10):\n",
    "    popular_titles.append(titles[popular[i][0] - 1][1])\n",
    "    \n",
    "plt.bar(popular[:,0].astype(int).astype(str), popular[:,1], width = .6, color = 'red')\n",
    "plt.title(\"Most Popular Movies\")\n",
    "plt.xlabel(\"Movie Id\")\n",
    "plt.ylabel(\"Frequency\")\n",
    "plt.show()"
   ]
  },
  {
   "cell_type": "code",
   "execution_count": 14,
   "metadata": {},
   "outputs": [
    {
     "name": "stdout",
     "output_type": "stream",
     "text": [
      "[[1293.    5.]\n",
      " [1653.    5.]\n",
      " [1500.    5.]\n",
      " [ 814.    5.]\n",
      " [1122.    5.]\n",
      " [1467.    5.]\n",
      " [1599.    5.]\n",
      " [1201.    5.]\n",
      " [1536.    5.]\n",
      " [1189.    5.]]\n",
      "[[408.           4.49107143]\n",
      " [318.           4.46644295]\n",
      " [169.           4.46610169]\n",
      " [483.           4.45679012]\n",
      " [114.           4.44776119]\n",
      " [ 64.           4.44522968]\n",
      " [603.           4.38755981]\n",
      " [ 12.           4.38576779]\n",
      " [ 50.           4.35849057]\n",
      " [178.           4.344     ]]\n"
     ]
    },
    {
     "data": {
      "image/png": "[encoded data removed]",
      "text/plain": [
       "<Figure size 432x288 with 1 Axes>"
      ]
     },
     "metadata": {
      "needs_background": "light"
     },
     "output_type": "display_data"
    },
    {
     "data": {
      "image/png": "[encoded data removed]",
      "text/plain": [
       "<Figure size 432x288 with 1 Axes>"
      ]
     },
     "metadata": {
      "needs_background": "light"
     },
     "output_type": "display_data"
    }
   ],
   "source": [
    "# all ratings of ten best movies with highest average ratings\n",
    "av = {}\n",
    "for i in range(len(ratings)):\n",
    "    name = ratings[i][1]\n",
    "    if name in av.keys():\n",
    "        #if the movie already in dictionary\n",
    "        av[name].append(ratings[i][2])\n",
    "        \n",
    "    else:\n",
    "        av[name] = [ratings[i][2]]\n",
    "\n",
    "for movie in av.keys():\n",
    "    #print(str(movie), \" \", str(np.mean(av[movie])))\n",
    "    av[movie] = np.mean(av[movie])\n",
    "\n",
    "av_movie_ratings = []\n",
    "for movie_id in av.keys():\n",
    "    av_movie_ratings.append([movie_id, av[movie_id]])\n",
    "    \n",
    "av_movie_ratings = np.asarray(av_movie_ratings)\n",
    "#print(av_movie_ratings)\n",
    "    \n",
    "# for i in range(len(av_movie_ratings)):\n",
    "#     print(av_movie_ratings[i])\n",
    "\n",
    "av_ratings = av_movie_ratings[av_movie_ratings[:,1].argsort()]\n",
    "\n",
    "print(av_ratings[-10:, :])\n",
    "\n",
    "av_ratings = av_ratings.tolist()\n",
    "\n",
    "for i in range(len(av_ratings)):\n",
    "    id1 = int(av_ratings[i][0])\n",
    "    #counts is the (id, # of ratings list)\n",
    "    for j in range(len(counts)):\n",
    "        id2 = int(counts[j][0])\n",
    "        if id1 == id2:\n",
    "            av_ratings[i].append(counts[j][1])\n",
    "            break\n",
    "            \n",
    "av_ratings = (np.asarray(av_ratings))\n",
    "#noa av_ratings has the counts for that movies as the third column\n",
    "\n",
    "popular2 = []\n",
    "j = 1681\n",
    "while len(popular2) < 10:\n",
    "    if av_ratings[j][2] >= 30:\n",
    "        popular2.append([av_ratings[j][0], av_ratings[j][1]])\n",
    "    j -= 1;\n",
    "\n",
    "popular2 = np.asarray(popular2)\n",
    "print(popular2)\n",
    "\n",
    "best_av_movies = []\n",
    "\n",
    "for i in range(len(popular2)):\n",
    "    movie_id = popular2[i][0]\n",
    "    for j in range(len(ratings)):\n",
    "        if ratings[j][1] == movie_id:\n",
    "            #append the rating\n",
    "            best_av_movies.append(ratings[j][2])\n",
    "            \n",
    "\n",
    "plt.bar((popular2[:,0].astype(int)).astype(str), popular2[:,1], width = .6, color = 'red')\n",
    "plt.title(\"10 Highest (Average) Rated Movies\")\n",
    "plt.xlabel(\"Movie Id\")\n",
    "plt.ylabel(\"Av. Rating\")\n",
    "plt.show()\n",
    "\n",
    "plt.hist(best_av_movies, bins = [.5, 1.5, 2.5, 3.5, 4.5, 5.5], rwidth = .7, color = 'brown')\n",
    "plt.title(\"Histogram of ratings 10 best (highest rated) movies\")\n",
    "plt.xlabel(\"Rating\")\n",
    "plt.ylabel(\"Frequency\")\n",
    "plt.show()\n"
   ]
  },
  {
   "cell_type": "code",
   "execution_count": 13,
   "metadata": {},
   "outputs": [
    {
     "name": "stdout",
     "output_type": "stream",
     "text": [
      "[408. 318. 169. 483. 114.  64. 603.  12.  50. 178. 513.]\n"
     ]
    }
   ],
   "source": [
    "ids = popular2[:,0]\n",
    "print(ids)\n"
   ]
  },
  {
   "cell_type": "code",
   "execution_count": null,
   "metadata": {},
   "outputs": [],
   "source": []
  }
 ],
 "metadata": {
  "kernelspec": {
   "display_name": "Python 3",
   "language": "python",
   "name": "python3"
  },
  "language_info": {
   "codemirror_mode": {
    "name": "ipython",
    "version": 3
   },
   "file_extension": ".py",
   "mimetype": "text/x-python",
   "name": "python",
   "nbconvert_exporter": "python",
   "pygments_lexer": "ipython3",
   "version": "3.6.8"
  }
 },
 "nbformat": 4,
 "nbformat_minor": 2
}
