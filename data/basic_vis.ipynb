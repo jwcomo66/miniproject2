{
 "cells": [
  {
   "cell_type": "code",
   "execution_count": 2,
   "metadata": {},
   "outputs": [],
   "source": [
    "# Visualise all ratings in MovieLens Dataset\n",
    "# all ratings of ten most popular movies which recieved the most ratings\n",
    "# all ratings of ten best movies with highest average ratings\n",
    "# all ratings of movies from three genres of your choice (three separate visualizations)\n",
    "import matplotlib.pyplot as plt\n",
    "import numpy as np"
   ]
  },
  {
   "cell_type": "code",
   "execution_count": 21,
   "metadata": {},
   "outputs": [],
   "source": [
    "def load_data(filename):\n",
    "    \"\"\"\n",
    "    Function loads data stored in the file filename and returns it as a numpy ndarray.\n",
    "    \n",
    "    Inputs:\n",
    "        filename: given as a string.\n",
    "        \n",
    "    Outputs:\n",
    "        Data contained in the file, returned as a numpy ndarray\n",
    "    \"\"\"\n",
    "    return np.loadtxt(filename, dtype = np.str , delimiter='\\t')"
   ]
  },
  {
   "cell_type": "code",
   "execution_count": 40,
   "metadata": {},
   "outputs": [
    {
     "name": "stdout",
     "output_type": "stream",
     "text": [
      "[[ 196  242    3]\n",
      " [ 186  302    3]\n",
      " [  22  377    1]\n",
      " ...\n",
      " [ 276 1090    1]\n",
      " [  13  225    2]\n",
      " [  12  203    3]]\n"
     ]
    }
   ],
   "source": [
    "data = load_data(\"/Users/josephcomo/desktop/data/movies.txt\")\n",
    "titles = data[:,0:2]\n",
    "genres = np.delete(data, 1, axis = 1)\n",
    "\n",
    "\n",
    "ratings = load_data(\"/Users/josephcomo/desktop/data/data.txt\")\n",
    "ratings = ratings.astype(int)\n",
    "print(ratings)"
   ]
  },
  {
   "cell_type": "code",
   "execution_count": 77,
   "metadata": {},
   "outputs": [
    {
     "data": {
      "text/plain": [
       "Text(0, 0.5, 'Frequency')"
      ]
     },
     "execution_count": 77,
     "metadata": {},
     "output_type": "execute_result"
    },
    {
     "data": {
      "image/png": "[encoded data removed]",
      "text/plain": [
       "<Figure size 432x288 with 1 Axes>"
      ]
     },
     "metadata": {
      "needs_background": "light"
     },
     "output_type": "display_data"
    }
   ],
   "source": [
    "# Visualise all ratings in MovieLens Dataset\n",
    "# create a histogram of all of the ratings showing how many of each rating was given\n",
    "# report mean and standard deviation\n",
    "\n",
    "plt.hist(ratings[:,2], bins = [.5, 1.5, 2.5, 3.5, 4.5, 5.5], rwidth = .7, color = 'brown')\n",
    "plt.title(\"Histogram of All Movie Ratings\")\n",
    "plt.xlabel(\"Rating\")\n",
    "plt.ylabel(\"Frequency\")"
   ]
  },
  {
   "cell_type": "code",
   "execution_count": 112,
   "metadata": {},
   "outputs": [
    {
     "name": "stdout",
     "output_type": "stream",
     "text": [
      "<zip object at 0x11aab32c8>\n",
      "[[121 429]\n",
      " [300 431]\n",
      " [  1 452]\n",
      " [288 478]\n",
      " [286 481]\n",
      " [294 485]\n",
      " [181 507]\n",
      " [100 508]\n",
      " [258 509]\n",
      " [ 50 583]]\n"
     ]
    }
   ],
   "source": [
    "# all ratings of ten most popular movies which recieved the most ratings\n",
    "y = np.bincount(np.transpose(ratings[:,1]))\n",
    "news = np.nonzero(y)[0]\n",
    "blah = zip(news, y[news])\n",
    "print(blah)\n",
    "\n",
    "x = np.transpose(ratings[:,1])\n",
    "counts = np.array(np.unique(x, return_counts = True)).T\n",
    "#print(counts)\n",
    "counts = counts[counts[:,1].argsort()]\n",
    "\n",
    "popular = np.array([\n",
    "[121, 429],\n",
    "[300, 431],\n",
    "[  1, 452],\n",
    "[288, 478],\n",
    "[286, 481],\n",
    "[294, 485],\n",
    "[181, 507],\n",
    "[100, 508],\n",
    "[258, 509],\n",
    "[ 50, 583]\n",
    "])\n",
    "print(popular)\n",
    "\n",
    "\n"
   ]
  },
  {
   "cell_type": "code",
   "execution_count": 154,
   "metadata": {
    "scrolled": true
   },
   "outputs": [
    {
     "data": {
      "text/plain": [
       "Text(0, 0.5, 'Frequency')"
      ]
     },
     "execution_count": 154,
     "metadata": {},
     "output_type": "execute_result"
    },
    {
     "data": {
      "image/png": "[encoded data removed]",
      "text/plain": [
       "<Figure size 432x288 with 1 Axes>"
      ]
     },
     "metadata": {
      "needs_background": "light"
     },
     "output_type": "display_data"
    }
   ],
   "source": [
    "popular_titles = []\n",
    "popular_ratings = popular[:,1]\n",
    "for i in range(10):\n",
    "    popular_titles.append(titles[popular[i][0] - 1][1])\n",
    "    \n",
    "plt.bar(popular[:,0].astype(str), popular[:,1], width = .6, color = 'red')\n",
    "plt.title(\"Most Popular Movies\")\n",
    "plt.xlabel(\"Movie Id\")\n",
    "plt.ylabel(\"Frequency\")\n"
   ]
  },
  {
   "cell_type": "code",
   "execution_count": 155,
   "metadata": {},
   "outputs": [],
   "source": [
    "# all ratings of ten best movies with highest average ratings\n",
    "dict = {}\n",
    "for i in \n"
   ]
  },
  {
   "cell_type": "code",
   "execution_count": null,
   "metadata": {},
   "outputs": [],
   "source": []
  }
 ],
 "metadata": {
  "kernelspec": {
   "display_name": "Python 3",
   "language": "python",
   "name": "python3"
  },
  "language_info": {
   "codemirror_mode": {
    "name": "ipython",
    "version": 3
   },
   "file_extension": ".py",
   "mimetype": "text/x-python",
   "name": "python",
   "nbconvert_exporter": "python",
   "pygments_lexer": "ipython3",
   "version": "3.6.8"
  }
 },
 "nbformat": 4,
 "nbformat_minor": 2
}
