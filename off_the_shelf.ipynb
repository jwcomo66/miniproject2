{
 "cells": [
  {
   "cell_type": "code",
   "execution_count": 6,
   "metadata": {
    "collapsed": true
   },
   "outputs": [],
   "source": [
    "import numpy as np\n",
    "from sklearn.decomposition import NMF\n",
    "def load_data(filename):\n",
    "    \"\"\"\n",
    "    Function loads data stored in the file filename and returns it as a numpy ndarray.\n",
    "    \n",
    "    Inputs:\n",
    "        filename: given as a string.\n",
    "        \n",
    "    Outputs:\n",
    "        Data contained in the file, returned as a numpy ndarray\n",
    "    \"\"\"\n",
    "    return np.loadtxt(filename, dtype = np.str , delimiter='\\t')"
   ]
  },
  {
   "cell_type": "code",
   "execution_count": 7,
   "metadata": {
    "collapsed": true
   },
   "outputs": [],
   "source": [
    "def get_err(U, V, Y, reg=0.0):\n",
    "    \"\"\"\n",
    "    Takes as input a matrix Y of triples (i, j, Y_ij) where i is the index of a user,\n",
    "    j is the index of a movie, and Y_ij is user i's rating of movie j and\n",
    "    user/movie matrices U and V.\n",
    "\n",
    "    Returns the mean regularized squared-error of predictions made by\n",
    "    estimating Y_{ij} as the dot product of the ith row of U and the jth column of V^T.\n",
    "    \"\"\"\n",
    "    summation = 0\n",
    "    U_val = np.linalg.norm(U)\n",
    "    V_val = np.linalg.norm(V)\n",
    "    print(len(Y))\n",
    "    for x in range (len(Y)): \n",
    "        j = Y[x][0] - 1\n",
    "        i = Y[x][1] - 1\n",
    "        yij = Y[x][2]\n",
    "        dot = np.dot(U[i], V[j])\n",
    "        summation += (yij - dot) ** 2\n",
    "    return ((reg/2) * ((U_val)**2 + (V_val)**2) + (summation/2)/ len(Y))"
   ]
  },
  {
   "cell_type": "code",
   "execution_count": 8,
   "metadata": {
    "collapsed": true
   },
   "outputs": [],
   "source": [
    "def get_m(y_train): \n",
    "    avg = 0\n",
    "    for i in y_train: \n",
    "        avg += i[2]\n",
    "    return avg/len(y_train)"
   ]
  },
  {
   "cell_type": "code",
   "execution_count": 10,
   "metadata": {},
   "outputs": [
    {
     "name": "stdout",
     "output_type": "stream",
     "text": [
      "943\n",
      "1682\n"
     ]
    }
   ],
   "source": [
    "# import the data \n",
    "# calculate M and N\n",
    "# set  k = 20\n",
    "\n",
    "Y_train = load_data('data/train.txt')\n",
    "Y_test = load_data('data/test.txt')\n",
    "Y_train = np.array([list(map(int, x)) for x in Y_train])\n",
    "Y_test = np.array([list(map(int, x)) for x in Y_test])\n",
    "m = get_m(Y_train)\n",
    "M = max(max(Y_train[:,0]), max(Y_test[:,0])) # users\n",
    "N = max(max(Y_train[:,1]), max(Y_test[:,1])) # movies\n",
    "\n",
    "k = 20\n",
    "\n",
    "print(M)\n",
    "print(N)\n",
    "\n"
   ]
  },
  {
   "cell_type": "code",
   "execution_count": 11,
   "metadata": {},
   "outputs": [
    {
     "name": "stdout",
     "output_type": "stream",
     "text": [
      "1682\n"
     ]
    }
   ],
   "source": [
    "# create and fill in Y- matrix\n",
    "Ymat = np.zeros((N, M))\n",
    "print(len(Ymat))\n",
    "for rating in Y_train:\n",
    "    uid = rating[0]\n",
    "    mid = rating[1]\n",
    "    rating = rating[2]\n",
    "    Ymat[mid - 1][uid - 1] = rating\n",
    "# Y is matrix of all ratings that users(col) have given to movies(row)\n",
    "# fill in every empty 0 with the average of the average user id rating\n",
    "# and the average movie id rating\n",
    "\n",
    "# find average user id rating for given row\n",
    "av_uid = []\n",
    "av_mid = []\n",
    "\n",
    "for n in range(N):\n",
    "    nonzeros = 0\n",
    "    total = 0\n",
    "    for m in range(M):\n",
    "        if Ymat[n][m] != 0:\n",
    "            nonzeros += 1\n",
    "            total += Ymat[n][m]\n",
    "    if nonzeros == 0:\n",
    "        av_mid.append(0)\n",
    "    else:\n",
    "        av_mid.append(total/nonzeros)\n",
    "\n",
    "for m in range(M):\n",
    "    nonzeros = 0\n",
    "    total = 0\n",
    "    for n in range(N):\n",
    "        if Ymat[n][m] != 0:\n",
    "            nonzeros += 1\n",
    "            total += Ymat[n][m]\n",
    "    if nonzeros == 0:\n",
    "        av_uid.append(0)\n",
    "    else:\n",
    "        av_uid.append(total/nonzeros)\n",
    "        \n",
    "\n",
    "for m in range(M):\n",
    "    for n in range(N):\n",
    "        if Ymat[n][m] == 0:\n",
    "            Ymat[n][m] = (av_uid[m] + av_mid[n])/2\n",
    "\n"
   ]
  },
  {
   "cell_type": "code",
   "execution_count": 12,
   "metadata": {},
   "outputs": [
    {
     "name": "stdout",
     "output_type": "stream",
     "text": [
      "[[5.         4.         3.30565693 ... 5.         4.07351408 3.61186499]\n",
      " [3.         3.43040452 2.93698347 ... 3.58471074 3.70484061 5.        ]\n",
      " [4.         3.40006662 2.90664557 ... 3.55437284 3.67450271 3.21285362]\n",
      " ...\n",
      " [2.8313253  2.86842105 2.375      ... 3.02272727 3.14285714 2.68120805]\n",
      " [3.3313253  3.36842105 2.875      ... 3.52272727 3.64285714 3.18120805]\n",
      " [3.3313253  3.36842105 2.875      ... 3.52272727 3.64285714 3.18120805]]\n"
     ]
    }
   ],
   "source": [
    "print(Ymat)"
   ]
  },
  {
   "cell_type": "code",
   "execution_count": 14,
   "metadata": {
    "collapsed": true
   },
   "outputs": [],
   "source": [
    "# create the model\n",
    "nmf = NMF(n_components = k, init = 'random', shuffle = True)"
   ]
  },
  {
   "cell_type": "code",
   "execution_count": 15,
   "metadata": {},
   "outputs": [
    {
     "name": "stdout",
     "output_type": "stream",
     "text": [
      "(1682, 20)\n",
      "(20, 943)\n",
      "[[0.20736621 0.44602622 0.22629595 ... 0.41524381 0.33187054 0.42492229]\n",
      " [0.         0.45695218 0.42134058 ... 0.30154788 0.38615475 0.46039445]\n",
      " [0.36587004 0.20560185 0.10393686 ... 0.34480225 0.42678462 0.40509103]\n",
      " ...\n",
      " [0.15863302 0.23350427 0.13622642 ... 0.43769825 0.45026616 0.01840167]\n",
      " [0.18255441 0.52843319 0.62903682 ... 0.19826113 0.36224348 0.36567793]\n",
      " [0.10205003 0.20739256 0.24136877 ... 0.2297373  0.17711808 0.        ]]\n"
     ]
    }
   ],
   "source": [
    "U = nmf.fit_transform(Ymat)\n",
    "V = nmf.components_\n",
    "print(np.shape(U))\n",
    "print(np.shape(V))\n",
    "print(V)"
   ]
  },
  {
   "cell_type": "code",
   "execution_count": 16,
   "metadata": {},
   "outputs": [
    {
     "data": {
      "text/plain": [
       "90000"
      ]
     },
     "execution_count": 16,
     "metadata": {},
     "output_type": "execute_result"
    }
   ],
   "source": [
    "len(V)\n",
    "len(U)\n",
    "len(Y_train)"
   ]
  },
  {
   "cell_type": "code",
   "execution_count": 54,
   "metadata": {},
   "outputs": [
    {
     "name": "stdout",
     "output_type": "stream",
     "text": [
      "90000\n"
     ]
    },
    {
     "data": {
      "text/plain": [
       "0.348679007231092"
      ]
     },
     "execution_count": 54,
     "metadata": {},
     "output_type": "execute_result"
    }
   ],
   "source": [
    "# must find the error \n",
    "get_err(U, np.transpose(V), Y_train, 0)\n",
    "\n"
   ]
  },
  {
   "cell_type": "code",
   "execution_count": 17,
   "metadata": {},
   "outputs": [
    {
     "name": "stdout",
     "output_type": "stream",
     "text": [
      "10000\n"
     ]
    },
    {
     "data": {
      "text/plain": [
       "0.4412614459478028"
      ]
     },
     "execution_count": 17,
     "metadata": {},
     "output_type": "execute_result"
    }
   ],
   "source": [
    "get_err(U, np.transpose(V), Y_test, 0)\n"
   ]
  },
  {
   "cell_type": "code",
   "execution_count": 18,
   "metadata": {},
   "outputs": [
    {
     "name": "stdout",
     "output_type": "stream",
     "text": [
      "[[0.02193574 0.05746223 0.72099116 ... 0.74238921 0.         0.42483925]\n",
      " [0.46835071 0.06571074 0.50949554 ... 0.49663773 0.31009651 0.07113106]\n",
      " [0.06493029 0.40718394 0.48903147 ... 0.43469783 0.59294598 0.39356361]\n",
      " ...\n",
      " [0.37924459 0.34986336 0.40634546 ... 0.35209193 0.27985294 0.21963248]\n",
      " [0.35945947 0.42609922 0.28561292 ... 0.33093071 0.48915386 0.35668272]\n",
      " [0.2938432  0.41836639 0.20708005 ... 0.3106855  0.5670045  0.3589315 ]]\n"
     ]
    }
   ],
   "source": [
    "print(U)\n"
   ]
  },
  {
   "cell_type": "code",
   "execution_count": 19,
   "metadata": {},
   "outputs": [
    {
     "name": "stdout",
     "output_type": "stream",
     "text": [
      "[[0.20736621 0.44602622 0.22629595 ... 0.41524381 0.33187054 0.42492229]\n",
      " [0.         0.45695218 0.42134058 ... 0.30154788 0.38615475 0.46039445]\n",
      " [0.36587004 0.20560185 0.10393686 ... 0.34480225 0.42678462 0.40509103]\n",
      " ...\n",
      " [0.15863302 0.23350427 0.13622642 ... 0.43769825 0.45026616 0.01840167]\n",
      " [0.18255441 0.52843319 0.62903682 ... 0.19826113 0.36224348 0.36567793]\n",
      " [0.10205003 0.20739256 0.24136877 ... 0.2297373  0.17711808 0.        ]]\n"
     ]
    }
   ],
   "source": [
    "print(V)"
   ]
  },
  {
   "cell_type": "code",
   "execution_count": 20,
   "metadata": {
    "collapsed": true
   },
   "outputs": [],
   "source": []
  },
  {
   "cell_type": "code",
   "execution_count": 22,
   "metadata": {},
   "outputs": [
    {
     "name": "stdout",
     "output_type": "stream",
     "text": [
      "(1682, 20)\n",
      "(20, 1682)\n",
      "(20, 2)\n",
      "(2, 20)\n"
     ]
    }
   ],
   "source": [
    "V = nmf.fit_transform(Ymat)\n",
    "U = nmf.components_\n",
    "A, S, B = np.linalg.svd(V, full_matrices = False)\n",
    "print(np.shape(A))\n",
    "A = np.transpose(A)\n",
    "print(np.shape(A))\n",
    "A_12 = A[:,0:2]\n",
    "print(np.shape(A_12))\n",
    "A_12 = np.transpose(A_12)\n",
    "print(np.shape(A_12))\n",
    "V_s = np.dot(A_12, np.transpose(V))\n",
    "U_s = np.dot(A_12, U)"
   ]
  },
  {
   "cell_type": "code",
   "execution_count": null,
   "metadata": {
    "collapsed": true,
    "scrolled": true
   },
   "outputs": [],
   "source": []
  },
  {
   "cell_type": "code",
   "execution_count": null,
   "metadata": {
    "collapsed": true
   },
   "outputs": [],
   "source": [
    "\n"
   ]
  },
  {
   "cell_type": "code",
   "execution_count": null,
   "metadata": {
    "collapsed": true
   },
   "outputs": [],
   "source": []
  },
  {
   "cell_type": "code",
   "execution_count": null,
   "metadata": {
    "collapsed": true
   },
   "outputs": [],
   "source": []
  }
 ],
 "metadata": {
  "kernelspec": {
   "display_name": "Python 3",
   "language": "python",
   "name": "python3"
  },
  "language_info": {
   "codemirror_mode": {
    "name": "ipython",
    "version": 3
   },
   "file_extension": ".py",
   "mimetype": "text/x-python",
   "name": "python",
   "nbconvert_exporter": "python",
   "pygments_lexer": "ipython3",
   "version": "3.6.1"
  }
 },
 "nbformat": 4,
 "nbformat_minor": 2
}
