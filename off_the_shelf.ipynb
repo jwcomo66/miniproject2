{
 "cells": [
  {
   "cell_type": "code",
   "execution_count": 1,
   "metadata": {},
   "outputs": [],
   "source": [
    "import numpy as np\n",
    "from sklearn.decomposition import NMF\n",
    "def load_data(filename):\n",
    "    \"\"\"\n",
    "    Function loads data stored in the file filename and returns it as a numpy ndarray.\n",
    "    \n",
    "    Inputs:\n",
    "        filename: given as a string.\n",
    "        \n",
    "    Outputs:\n",
    "        Data contained in the file, returned as a numpy ndarray\n",
    "    \"\"\"\n",
    "    return np.loadtxt(filename, dtype = np.str , delimiter='\\t')"
   ]
  },
  {
   "cell_type": "code",
   "execution_count": 26,
   "metadata": {},
   "outputs": [],
   "source": [
    "def get_err(U, V, Y, reg=0.0):\n",
    "    \"\"\"\n",
    "    Takes as input a matrix Y of triples (i, j, Y_ij) where i is the index of a user,\n",
    "    j is the index of a movie, and Y_ij is user i's rating of movie j and\n",
    "    user/movie matrices U and V.\n",
    "\n",
    "    Returns the mean regularized squared-error of predictions made by\n",
    "    estimating Y_{ij} as the dot product of the ith row of U and the jth column of V^T.\n",
    "    \"\"\"\n",
    "    summation = 0\n",
    "    U_val = np.linalg.norm(U)\n",
    "    V_val = np.linalg.norm(V)\n",
    "    print(len(Y))\n",
    "    for x in range (len(Y)): \n",
    "        j = Y[x][0] - 1\n",
    "        i = Y[x][1] - 1\n",
    "        yij = Y[x][2]\n",
    "        dot = np.dot(U[i], V[j])\n",
    "        summation += (yij - dot) ** 2\n",
    "    return ((reg/2) * ((U_val)**2 + (V_val)**2) + (summation/2)/ len(Y))"
   ]
  },
  {
   "cell_type": "code",
   "execution_count": 3,
   "metadata": {},
   "outputs": [],
   "source": [
    "def get_m(y_train): \n",
    "    avg = 0\n",
    "    for i in y_train: \n",
    "        avg += i[2]\n",
    "    return avg/len(y_train)"
   ]
  },
  {
   "cell_type": "code",
   "execution_count": 40,
   "metadata": {},
   "outputs": [
    {
     "name": "stdout",
     "output_type": "stream",
     "text": [
      "943\n",
      "1682\n"
     ]
    }
   ],
   "source": [
    "# import the data \n",
    "# calculate M and N\n",
    "# set  k = 20\n",
    "\n",
    "Y_train = load_data('/Users/josephcomo/desktop/data/train.txt')\n",
    "Y_test = load_data('/Users/josephcomo/desktop/data/test.txt')\n",
    "Y_train = np.array([list(map(int, x)) for x in Y_train])\n",
    "Y_test = np.array([list(map(int, x)) for x in Y_test])\n",
    "m = get_m(Y_train)\n",
    "M = max(max(Y_train[:,0]), max(Y_test[:,0])) # users\n",
    "N = max(max(Y_train[:,1]), max(Y_test[:,1])) # movies\n",
    "\n",
    "k = 20\n",
    "\n",
    "print(M)\n",
    "print(N)\n",
    "\n"
   ]
  },
  {
   "cell_type": "code",
   "execution_count": 47,
   "metadata": {},
   "outputs": [
    {
     "name": "stdout",
     "output_type": "stream",
     "text": [
      "1682\n"
     ]
    }
   ],
   "source": [
    "# create and fill in Y- matrix\n",
    "Ymat = np.zeros((N, M))\n",
    "print(len(Ymat))\n",
    "for rating in Y_train:\n",
    "    uid = rating[0]\n",
    "    mid = rating[1]\n",
    "    rating = rating[2]\n",
    "    Ymat[mid - 1][uid - 1] = rating\n",
    "# Y is matrix of all ratings that users(col) have given to movies(row)\n",
    "# fill in every empty 0 with the average of the average user id rating\n",
    "# and the average movie id rating\n",
    "\n",
    "# find average user id rating for given row\n",
    "av_uid = []\n",
    "av_mid = []\n",
    "\n",
    "for n in range(N):\n",
    "    nonzeros = 0\n",
    "    total = 0\n",
    "    for m in range(M):\n",
    "        if Ymat[n][m] != 0:\n",
    "            nonzeros += 1\n",
    "            total += Ymat[n][m]\n",
    "    if nonzeros == 0:\n",
    "        av_mid.append(0)\n",
    "    else:\n",
    "        av_mid.append(total/nonzeros)\n",
    "\n",
    "for m in range(M):\n",
    "    nonzeros = 0\n",
    "    total = 0\n",
    "    for n in range(N):\n",
    "        if Ymat[n][m] != 0:\n",
    "            nonzeros += 1\n",
    "            total += Ymat[n][m]\n",
    "    if nonzeros == 0:\n",
    "        av_uid.append(0)\n",
    "    else:\n",
    "        av_uid.append(total/nonzeros)\n",
    "        \n",
    "\n",
    "for m in range(M):\n",
    "    for n in range(N):\n",
    "        if Ymat[n][m] == 0:\n",
    "            Ymat[n][m] = (av_uid[m] + av_mid[n])/2\n",
    "\n"
   ]
  },
  {
   "cell_type": "code",
   "execution_count": 50,
   "metadata": {},
   "outputs": [
    {
     "name": "stdout",
     "output_type": "stream",
     "text": [
      "[[5.         4.         3.30565693 ... 5.         4.07351408 3.61186499]\n",
      " [3.         3.43040452 2.93698347 ... 3.58471074 3.70484061 5.        ]\n",
      " [4.         3.40006662 2.90664557 ... 3.55437284 3.67450271 3.21285362]\n",
      " ...\n",
      " [2.8313253  2.86842105 2.375      ... 3.02272727 3.14285714 2.68120805]\n",
      " [3.3313253  3.36842105 2.875      ... 3.52272727 3.64285714 3.18120805]\n",
      " [3.3313253  3.36842105 2.875      ... 3.52272727 3.64285714 3.18120805]]\n"
     ]
    }
   ],
   "source": [
    "print(Ymat)"
   ]
  },
  {
   "cell_type": "code",
   "execution_count": 51,
   "metadata": {},
   "outputs": [],
   "source": [
    "# create the model\n",
    "nmf = NMF(n_components = k, init = 'random', shuffle = True)"
   ]
  },
  {
   "cell_type": "code",
   "execution_count": 52,
   "metadata": {},
   "outputs": [
    {
     "name": "stdout",
     "output_type": "stream",
     "text": [
      "(1682, 20)\n",
      "(20, 943)\n",
      "[[0.37622928 0.38049334 0.36477101 ... 0.24417457 0.41548779 0.00907419]\n",
      " [1.1908228  0.43323128 0.32723359 ... 0.24715331 0.16331672 0.28613844]\n",
      " [0.14667202 0.37108    0.31271984 ... 0.28788284 0.36716587 0.27138349]\n",
      " ...\n",
      " [0.30773201 0.59711391 0.3130761  ... 0.57154587 0.50236282 0.20991555]\n",
      " [0.03200452 0.32467077 0.20051744 ... 0.56162983 0.74302809 0.55109477]\n",
      " [0.         0.38481595 0.28791045 ... 0.36729365 0.32137958 0.66122537]]\n"
     ]
    }
   ],
   "source": [
    "U = nmf.fit_transform(Ymat)\n",
    "V = nmf.components_\n",
    "print(np.shape(U))\n",
    "print(np.shape(V))\n",
    "print(V)"
   ]
  },
  {
   "cell_type": "code",
   "execution_count": 53,
   "metadata": {},
   "outputs": [
    {
     "data": {
      "text/plain": [
       "90000"
      ]
     },
     "execution_count": 53,
     "metadata": {},
     "output_type": "execute_result"
    }
   ],
   "source": [
    "len(V)\n",
    "len(U)\n",
    "len(Y_train)"
   ]
  },
  {
   "cell_type": "code",
   "execution_count": 54,
   "metadata": {},
   "outputs": [
    {
     "name": "stdout",
     "output_type": "stream",
     "text": [
      "90000\n"
     ]
    },
    {
     "data": {
      "text/plain": [
       "0.348679007231092"
      ]
     },
     "execution_count": 54,
     "metadata": {},
     "output_type": "execute_result"
    }
   ],
   "source": [
    "# must find the error \n",
    "get_err(U, np.transpose(V), Y_train, 0)\n",
    "\n"
   ]
  },
  {
   "cell_type": "code",
   "execution_count": 55,
   "metadata": {},
   "outputs": [
    {
     "name": "stdout",
     "output_type": "stream",
     "text": [
      "10000\n"
     ]
    },
    {
     "data": {
      "text/plain": [
       "0.4416915984133395"
      ]
     },
     "execution_count": 55,
     "metadata": {},
     "output_type": "execute_result"
    }
   ],
   "source": [
    "get_err(U, np.transpose(V), Y_test, 0)\n"
   ]
  },
  {
   "cell_type": "code",
   "execution_count": 57,
   "metadata": {},
   "outputs": [
    {
     "name": "stdout",
     "output_type": "stream",
     "text": [
      "[[0.10857925 0.         0.         ... 0.21652421 0.68858534 0.        ]\n",
      " [0.4517871  0.15346512 0.56132522 ... 0.4182991  0.24775196 0.51927761]\n",
      " [0.63726648 0.42110184 0.56284404 ... 0.692915   0.18479861 0.50571327]\n",
      " ...\n",
      " [0.37767793 0.20431949 0.45602257 ... 0.39190568 0.3278826  0.37233183]\n",
      " [0.36897622 0.27340656 0.40601127 ... 0.31944217 0.2348388  0.39097003]\n",
      " [0.35678429 0.23241829 0.3441881  ... 0.2692276  0.14271895 0.33662331]]\n"
     ]
    }
   ],
   "source": [
    "print(U)\n"
   ]
  },
  {
   "cell_type": "code",
   "execution_count": 56,
   "metadata": {},
   "outputs": [
    {
     "name": "stdout",
     "output_type": "stream",
     "text": [
      "[[0.37622928 0.38049334 0.36477101 ... 0.24417457 0.41548779 0.00907419]\n",
      " [1.1908228  0.43323128 0.32723359 ... 0.24715331 0.16331672 0.28613844]\n",
      " [0.14667202 0.37108    0.31271984 ... 0.28788284 0.36716587 0.27138349]\n",
      " ...\n",
      " [0.30773201 0.59711391 0.3130761  ... 0.57154587 0.50236282 0.20991555]\n",
      " [0.03200452 0.32467077 0.20051744 ... 0.56162983 0.74302809 0.55109477]\n",
      " [0.         0.38481595 0.28791045 ... 0.36729365 0.32137958 0.66122537]]\n"
     ]
    }
   ],
   "source": [
    "print(V)"
   ]
  },
  {
   "cell_type": "code",
   "execution_count": null,
   "metadata": {},
   "outputs": [],
   "source": []
  },
  {
   "cell_type": "code",
   "execution_count": null,
   "metadata": {},
   "outputs": [],
   "source": []
  },
  {
   "cell_type": "code",
   "execution_count": null,
   "metadata": {
    "scrolled": true
   },
   "outputs": [],
   "source": []
  },
  {
   "cell_type": "code",
   "execution_count": null,
   "metadata": {},
   "outputs": [],
   "source": [
    "\n"
   ]
  },
  {
   "cell_type": "code",
   "execution_count": null,
   "metadata": {},
   "outputs": [],
   "source": []
  },
  {
   "cell_type": "code",
   "execution_count": null,
   "metadata": {},
   "outputs": [],
   "source": []
  }
 ],
 "metadata": {
  "kernelspec": {
   "display_name": "Python 3",
   "language": "python",
   "name": "python3"
  },
  "language_info": {
   "codemirror_mode": {
    "name": "ipython",
    "version": 3
   },
   "file_extension": ".py",
   "mimetype": "text/x-python",
   "name": "python",
   "nbconvert_exporter": "python",
   "pygments_lexer": "ipython3",
   "version": "3.6.8"
  }
 },
 "nbformat": 4,
 "nbformat_minor": 2
}
