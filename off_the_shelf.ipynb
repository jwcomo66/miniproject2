{
 "cells": [
  {
   "cell_type": "code",
   "execution_count": 34,
   "metadata": {},
   "outputs": [],
   "source": [
    "import numpy as np\n",
    "from sklearn.decomposition import NMF\n",
    "def load_data(filename):\n",
    "    \"\"\"\n",
    "    Function loads data stored in the file filename and returns it as a numpy ndarray.\n",
    "    \n",
    "    Inputs:\n",
    "        filename: given as a string.\n",
    "        \n",
    "    Outputs:\n",
    "        Data contained in the file, returned as a numpy ndarray\n",
    "    \"\"\"\n",
    "    return np.loadtxt(filename, dtype = np.str , delimiter='\\t')"
   ]
  },
  {
   "cell_type": "code",
   "execution_count": 74,
   "metadata": {},
   "outputs": [],
   "source": [
    "def get_err(U, V, Y, reg=0.0):\n",
    "    \"\"\"\n",
    "    Takes as input a matrix Y of triples (i, j, Y_ij) where i is the index of a user,\n",
    "    j is the index of a movie, and Y_ij is user i's rating of movie j and\n",
    "    user/movie matrices U and V.\n",
    "\n",
    "    Returns the mean regularized squared-error of predictions made by\n",
    "    estimating Y_{ij} as the dot product of the ith row of U and the jth column of V^T.\n",
    "    \"\"\"\n",
    "    summation = 0\n",
    "    U_val = np.linalg.norm(U)\n",
    "    V_val = np.linalg.norm(V)\n",
    "    print(len(Y))\n",
    "    for x in range (len(Y)): \n",
    "        i = Y[x][0] - 1\n",
    "        j = Y[x][1] - 1\n",
    "        yij = Y[x][2] - 1\n",
    "        dot = np.dot(U[i], V[j])\n",
    "        summation += (yij - dot) ** 2\n",
    "    return ((reg/2) * ((U_val)**2 + (V_val)**2) + (summation/2)/ len(Y))"
   ]
  },
  {
   "cell_type": "code",
   "execution_count": 35,
   "metadata": {},
   "outputs": [],
   "source": [
    "def get_m(y_train): \n",
    "    avg = 0\n",
    "    for i in y_train: \n",
    "        avg += i[2]\n",
    "    return avg/len(y_train)"
   ]
  },
  {
   "cell_type": "code",
   "execution_count": 49,
   "metadata": {},
   "outputs": [],
   "source": [
    "# import the data \n",
    "# calculate M and N\n",
    "# set  k = 20\n",
    "\n",
    "Y_train = load_data('/Users/josephcomo/desktop/data/train.txt')\n",
    "Y_test = load_data('/Users/josephcomo/desktop/data/test.txt')\n",
    "Y_train = np.array([list(map(int, x)) for x in Y_train])\n",
    "Y_test = np.array([list(map(int, x)) for x in Y_test])\n",
    "m = get_m(Y_train)\n",
    "M = max(max(Y_train[:,0]), max(Y_test[:,0])) # users\n",
    "N = max(max(Y_train[:,1]), max(Y_test[:,1])) # movies\n",
    "\n",
    "k = 20\n",
    "\n"
   ]
  },
  {
   "cell_type": "code",
   "execution_count": 66,
   "metadata": {},
   "outputs": [
    {
     "name": "stdout",
     "output_type": "stream",
     "text": [
      "[[5.         3.         4.         ... 3.0813253  3.3313253  3.3313253 ]\n",
      " [4.         5.         3.         ... 3.09220532 3.34220532 3.34220532]\n",
      " [3.51667844 4.         3.11233729 ... 2.83602151 3.08602151 3.08602151]\n",
      " ...\n",
      " [5.         3.78669009 3.4906015  ... 3.21428571 3.46428571 3.46428571]\n",
      " [4.07351408 3.96526151 3.66917293 ... 3.39285714 3.64285714 3.64285714]\n",
      " [3.62144641 5.         3.21710526 ... 2.94078947 3.19078947 3.19078947]]\n"
     ]
    }
   ],
   "source": [
    "# create and fill in Y- matrix\n",
    "Ymat = np.zeros((N, M))\n",
    "for rating in Y_train:\n",
    "    uid = rating[0]\n",
    "    mid = rating[1]\n",
    "    rating = rating[2]\n",
    "    Y[uid - 1][mid - 1] = rating\n",
    "# Y is matrix of all ratings that users(row) have given to movies(col)\n",
    "# fill in every empty 0 with the average of the average user id rating\n",
    "# and the average movie id rating\n",
    "\n",
    "# find average user id rating for given row\n",
    "av_uid = []\n",
    "av_mid = []\n",
    "\n",
    "for n in range(N):\n",
    "    nonzeros = 0\n",
    "    total = 0\n",
    "    for m in range(M):\n",
    "        if Y[m][n] != 0:\n",
    "            nonzeros += 1\n",
    "            total += Y[m][n]\n",
    "    if nonzeros == 0:\n",
    "        av_mid.append(0)\n",
    "    else:\n",
    "        av_mid.append(total/nonzeros)\n",
    "\n",
    "for m in range(M):\n",
    "    nonzeros = 0\n",
    "    total = 0\n",
    "    for n in range(N):\n",
    "        if Y[m][n] != 0:\n",
    "            nonzeros += 1\n",
    "            total += Y[m][n]\n",
    "    if nonzeros == 0:\n",
    "        av_uid.append(0)\n",
    "    else:\n",
    "        av_uid.append(total/nonzeros)\n",
    "        \n",
    "\n",
    "for m in range(M):\n",
    "    for n in range(N):\n",
    "        if Y[m][n] == 0:\n",
    "            Y[m][n] = (av_uid[m] + av_mid[n])/2\n",
    "print(Y)"
   ]
  },
  {
   "cell_type": "code",
   "execution_count": 67,
   "metadata": {},
   "outputs": [],
   "source": [
    "# create the model\n",
    "nmf = NMF(n_components = k, init = 'random', shuffle = True)"
   ]
  },
  {
   "cell_type": "code",
   "execution_count": 68,
   "metadata": {},
   "outputs": [
    {
     "name": "stdout",
     "output_type": "stream",
     "text": [
      "(943, 20)\n",
      "(20, 1682)\n",
      "[[0.06164154 0.26596515 0.45794542 ... 0.24129932 0.31284554 0.11700927]\n",
      " [2.79223911 0.2413888  0.866924   ... 1.91116471 1.66279289 0.        ]\n",
      " [0.         0.29127409 0.48270922 ... 0.30707399 0.32903096 0.28458387]\n",
      " ...\n",
      " [0.39025042 0.27039557 0.25392669 ... 0.36907405 0.39860011 0.12793634]\n",
      " [0.00894618 0.25653243 0.27584471 ... 0.36895891 0.42445889 0.1471165 ]\n",
      " [0.57432386 1.17934415 0.33081935 ... 0.16431448 0.19724702 0.61164621]]\n"
     ]
    }
   ],
   "source": [
    "U = nmf.fit_transform(Y)\n",
    "V = nmf.components_\n",
    "print(np.shape(U))\n",
    "print(np.shape(V))\n",
    "print(V)"
   ]
  },
  {
   "cell_type": "code",
   "execution_count": 76,
   "metadata": {},
   "outputs": [
    {
     "name": "stdout",
     "output_type": "stream",
     "text": [
      "90000\n"
     ]
    },
    {
     "data": {
      "text/plain": [
       "0.9187308756292644"
      ]
     },
     "execution_count": 76,
     "metadata": {},
     "output_type": "execute_result"
    }
   ],
   "source": [
    "# must find the error \n",
    "get_err(U, np.transpose(V), Y_train, 0)\n",
    "\n"
   ]
  },
  {
   "cell_type": "code",
   "execution_count": 77,
   "metadata": {},
   "outputs": [
    {
     "name": "stdout",
     "output_type": "stream",
     "text": [
      "10000\n"
     ]
    },
    {
     "data": {
      "text/plain": [
       "1.0069620860715593"
      ]
     },
     "execution_count": 77,
     "metadata": {},
     "output_type": "execute_result"
    }
   ],
   "source": [
    "get_err(U, np.transpose(V), Y_test, 0)\n"
   ]
  },
  {
   "cell_type": "code",
   "execution_count": null,
   "metadata": {},
   "outputs": [],
   "source": []
  },
  {
   "cell_type": "code",
   "execution_count": null,
   "metadata": {},
   "outputs": [],
   "source": []
  },
  {
   "cell_type": "code",
   "execution_count": null,
   "metadata": {},
   "outputs": [],
   "source": []
  },
  {
   "cell_type": "code",
   "execution_count": null,
   "metadata": {},
   "outputs": [],
   "source": []
  },
  {
   "cell_type": "code",
   "execution_count": null,
   "metadata": {
    "scrolled": true
   },
   "outputs": [],
   "source": []
  },
  {
   "cell_type": "code",
   "execution_count": null,
   "metadata": {},
   "outputs": [],
   "source": [
    "\n"
   ]
  },
  {
   "cell_type": "code",
   "execution_count": null,
   "metadata": {},
   "outputs": [],
   "source": []
  },
  {
   "cell_type": "code",
   "execution_count": null,
   "metadata": {},
   "outputs": [],
   "source": []
  }
 ],
 "metadata": {
  "kernelspec": {
   "display_name": "Python 3",
   "language": "python",
   "name": "python3"
  },
  "language_info": {
   "codemirror_mode": {
    "name": "ipython",
    "version": 3
   },
   "file_extension": ".py",
   "mimetype": "text/x-python",
   "name": "python",
   "nbconvert_exporter": "python",
   "pygments_lexer": "ipython3",
   "version": "3.6.8"
  }
 },
 "nbformat": 4,
 "nbformat_minor": 2
}
