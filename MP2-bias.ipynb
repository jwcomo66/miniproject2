{
 "cells": [
  {
   "cell_type": "code",
   "execution_count": 2,
   "metadata": {},
   "outputs": [],
   "source": [
    "# Solution set for CS 155 Set 6, 2016/2017\n",
    "# Authors: Fabian Boemer, Sid Murching, Suraj Nair\n",
    "\n",
    "import numpy as np\n",
    "import math\n",
    "import random\n",
    "import numpy as np\n",
    "import matplotlib.pyplot as plt\n",
    "from sklearn.model_selection import train_test_split\n",
    "\n",
    "def grad_U(Ui, Yij, Vj, reg, eta, ai, bj):\n",
    "    \"\"\"\n",
    "    Takes as input Ui (the ith row of U), a training point Yij, the column\n",
    "    vector Vj (jth column of V^T), reg (the regularization parameter lambda),\n",
    "    and eta (the learning rate).\n",
    "\n",
    "    Returns the gradient of the regularized loss function with\n",
    "    respect to Ui multiplied by eta.\n",
    "    \"\"\"\n",
    "    first = reg * Ui\n",
    "    second = Vj * (Yij - (np.dot(Ui, Vj) + ai + bj))\n",
    "    grad = eta * (first - second)\n",
    "    return grad"
   ]
  },
  {
   "cell_type": "code",
   "execution_count": 3,
   "metadata": {},
   "outputs": [],
   "source": [
    "def load_data(filename):\n",
    "    \"\"\"\n",
    "    Function loads data stored in the file filename and returns it as a numpy ndarray.\n",
    "    \n",
    "    Inputs:\n",
    "        filename: given as a string.\n",
    "        \n",
    "    Outputs:\n",
    "        Data contained in the file, returned as a numpy ndarray\n",
    "    \"\"\"\n",
    "    return np.loadtxt(filename, dtype = np.str , delimiter='\\t')"
   ]
  },
  {
   "cell_type": "code",
   "execution_count": 4,
   "metadata": {},
   "outputs": [],
   "source": [
    "def grad_V(Vj, Yij, Ui, reg, eta, ai, bj):\n",
    "    \"\"\"\n",
    "    Takes as input the column vector Vj (jth column of V^T), a training point Yij,\n",
    "    Ui (the ith row of U), reg (the regularization parameter lambda),\n",
    "    and eta (the learning rate).\n",
    "\n",
    "    Returns the gradient of the regularized loss function with\n",
    "    respect to Vj multiplied by eta.\n",
    "    \"\"\"\n",
    "    first = reg * Vj\n",
    "    second = Ui * (Yij - (np.dot(Ui, Vj) + ai + bj))\n",
    "    grad = eta* (first - second)\n",
    "    return grad"
   ]
  },
  {
   "cell_type": "code",
   "execution_count": 5,
   "metadata": {},
   "outputs": [],
   "source": [
    "def get_err(U, V, Y, reg, a , b, m):\n",
    "    \"\"\"\n",
    "    Takes as input a matrix Y of triples (i, j, Y_ij) where i is the index of a user,\n",
    "    j is the index of a movie, and Y_ij is user i's rating of movie j and\n",
    "    user/movie matrices U and V.\n",
    "\n",
    "    Returns the mean regularized squared-error of predictions made by\n",
    "    estimating Y_{ij} as the dot product of the ith row of U and the jth column of V^T.\n",
    "    \"\"\"\n",
    "    summation = 0\n",
    "    U_val = np.linalg.norm(U)\n",
    "    V_val = np.linalg.norm(V)\n",
    "    for x in range (len(Y)): \n",
    "        i = Y[x][0] - 1\n",
    "        j = Y[x][1] - 1\n",
    "        yij = Y[x][2]\n",
    "        dot = np.dot(U[i], V[j])\n",
    "        summation += (yij - (dot + a[i] + b[j])) ** 2\n",
    "    return (reg/2) * ((U_val)**2 + (V_val)**2) + (summation/2)"
   ]
  },
  {
   "cell_type": "code",
   "execution_count": 6,
   "metadata": {},
   "outputs": [],
   "source": [
    "def grad_a(Ui, Yij, Vj, reg, eta, ai, bj): \n",
    "    return 2 * (eta/50) * (Yij - (np.dot(Ui, Vj) + ai + bj))"
   ]
  },
  {
   "cell_type": "code",
   "execution_count": 7,
   "metadata": {},
   "outputs": [],
   "source": [
    "def grad_b(Ui, Yij, Vj, reg, eta, ai, bj): \n",
    "    return 2 * (eta/50) * (Yij - (np.dot(Ui, Vj) + ai + bj))"
   ]
  },
  {
   "cell_type": "code",
   "execution_count": 14,
   "metadata": {},
   "outputs": [],
   "source": [
    "def train_model(M, N, K, eta, reg, Y, m, eps=0.0001, max_epochs=300):\n",
    "    \"\"\"\n",
    "    Given a training data matrix Y containing rows (i, j, Y_ij)\n",
    "    where Y_ij is user i's rating on movie j, learns an\n",
    "    M x K matrix U and N x K matrix V such that rating Y_ij is approximated\n",
    "    by (UV^T)_ij.\n",
    "\n",
    "    Uses a learning rate of <eta> and regularization of <reg>. Stops after\n",
    "    <max_epochs> epochs, or once the magnitude of the decrease in regularized\n",
    "    MSE between epochs is smaller than a fraction <eps> of the decrease in\n",
    "    MSE after the first epoch.\n",
    "\n",
    "    Returns a tuple (U, V, err) consisting of U, V, and the unregularized MSE\n",
    "    of the model.\n",
    "    \"\"\"\n",
    "    U = np.random.uniform(-0.5, 0.5, (M, K))\n",
    "    V = np.random.uniform(-0.5, 0.5, (N, K))\n",
    "    # a is user bias\n",
    "    a = np.full((M, 1), 0.1)\n",
    "    # b is movie bias\n",
    "    b = np.full((N, 1), 0.1)\n",
    "    first_loss = get_err(U, V, Y, reg, a, b, m)\n",
    "    for epoch in range(max_epochs): \n",
    "        Y_shuffle = np.random.permutation(Y)\n",
    "        prev_loss = get_err(U, V, Y, reg, a, b, m)\n",
    "        for x in range (len(Y)): \n",
    "            i = Y_shuffle[x][0] - 1\n",
    "            j = Y_shuffle[x][1] - 1\n",
    "            y = Y_shuffle[x][2] \n",
    "            U[i] -= grad_U(U[i], y, V[j], reg, eta, a[i], b[j])\n",
    "            V[j] -= grad_V(V[j], y, U[i], reg, eta, a[i], b[j])\n",
    "            a[i] -= grad_a(U[i], y, V[j], reg, eta, a[i], b[j])\n",
    "            b[j] -= grad_b(U[i], y, V[j], reg, eta, a[i], b[j])\n",
    "        if (epoch == 0): \n",
    "            first_loss -= get_err(U, V, Y, reg, a , b, m)\n",
    "        else: \n",
    "            error_diff = prev_loss - get_err(U, V, Y, reg, a, b, m)\n",
    "            if (error_diff/first_loss) <= eps: \n",
    "                return (U, V, get_err(U, V, Y, reg, a, b, m)/len(Y), a, b)\n",
    "    error = get_err(U, V, Y, reg, a, b, m)/len(Y)\n",
    "    return (U, V, error, a , b)"
   ]
  },
  {
   "cell_type": "code",
   "execution_count": 15,
   "metadata": {},
   "outputs": [],
   "source": [
    "def get_m(y_train): \n",
    "    avg = 0\n",
    "    for i in y_train: \n",
    "        avg += i[2]\n",
    "    return avg/len(y_train)"
   ]
  },
  {
   "cell_type": "code",
   "execution_count": 16,
   "metadata": {},
   "outputs": [
    {
     "name": "stdout",
     "output_type": "stream",
     "text": [
      "Factorizing with  943  users,  1682  movies.\n"
     ]
    }
   ],
   "source": [
    "Y_train = load_data(\"/Users/Netra/Documents/Caltech2ndYear/2ndTerm/CS155/HW/MiniProject2/data/train.txt\")\n",
    "Y_test = load_data(\"/Users/Netra/Documents/Caltech2ndYear/2ndTerm/CS155/HW/MiniProject2/data/test.txt\")\n",
    "Y_train = np.array([list(map(int, x)) for x in Y_train])\n",
    "Y_test = np.array([list(map(int, x)) for x in Y_test])\n",
    "m = get_m(Y_train)\n",
    "M = max(max(Y_train[:,0]), max(Y_test[:,0])) # users\n",
    "N = max(max(Y_train[:,1]), max(Y_test[:,1])) # movies\n",
    "print(\"Factorizing with \", M, \" users, \", N, \" movies.\")\n",
    "Ks = [10,20,30,50,100]\n",
    "reg = 0.0\n",
    "eta = 0.03 # learning rate\n",
    "E_in = []\n",
    "E_out = []\n",
    "Ein = 0\n",
    "Eout = 0"
   ]
  },
  {
   "cell_type": "code",
   "execution_count": 22,
   "metadata": {},
   "outputs": [
    {
     "name": "stdout",
     "output_type": "stream",
     "text": [
      "Ein:  [0.22898167]\n",
      "Eout:  [0.52518268]\n"
     ]
    }
   ],
   "source": [
    "result = train_model(M, N, 20, eta, 0.05, Y_train, m)\n",
    "U = result[0]\n",
    "V = result[1]\n",
    "err = result[2]\n",
    "a = result[3]\n",
    "b = result[4]\n",
    "print(\"Ein: \", err)\n",
    "Eout = get_err(U, V, Y_test, 0.05, a , b, m)/len(Y_test)\n",
    "print(\"Eout: \", Eout)"
   ]
  },
  {
   "cell_type": "code",
   "execution_count": 70,
   "metadata": {},
   "outputs": [
    {
     "name": "stdout",
     "output_type": "stream",
     "text": [
      "(20, 20)\n",
      "(20, 20)\n",
      "(20, 2)\n",
      "(2, 20)\n"
     ]
    }
   ],
   "source": [
    "V = np.transpose(V)\n",
    "A, S, B = np.linalg.svd(V, full_matrices = False)\n",
    "print(np.shape(A))\n",
    "A = np.transpose(A)\n",
    "print(np.shape(A))\n",
    "A_12 = A[:,0:2]\n",
    "print(np.shape(A_12))\n",
    "A_12 = np.transpose(A_12)\n",
    "print(np.shape(A_12))\n",
    "V_s = np.dot(A_12, V)\n",
    "U_s = np.dot(A_12, np.transpose(U))"
   ]
  },
  {
   "cell_type": "code",
   "execution_count": 71,
   "metadata": {},
   "outputs": [
    {
     "name": "stdout",
     "output_type": "stream",
     "text": [
      "(2, 943)\n",
      "(2, 1682)\n"
     ]
    }
   ],
   "source": [
    "print(np.shape(U_s))\n",
    "print(np.shape(V_s))"
   ]
  },
  {
   "cell_type": "code",
   "execution_count": 75,
   "metadata": {},
   "outputs": [
    {
     "data": {
      "text/plain": [
       "<function matplotlib.pyplot.show(*args, **kw)>"
      ]
     },
     "execution_count": 75,
     "metadata": {},
     "output_type": "execute_result"
    },
    {
     "data": {
      "image/png": "[encoded data removed]",
      "text/plain": [
       "<Figure size 432x288 with 1 Axes>"
      ]
     },
     "metadata": {
      "needs_background": "light"
     },
     "output_type": "display_data"
    }
   ],
   "source": [
    "plt.scatter(V_s[0], V_s[1])\n",
    "plt.show"
   ]
  },
  {
   "cell_type": "code",
   "execution_count": 78,
   "metadata": {},
   "outputs": [
    {
     "data": {
      "text/plain": [
       "<function matplotlib.pyplot.show(*args, **kw)>"
      ]
     },
     "execution_count": 78,
     "metadata": {},
     "output_type": "execute_result"
    },
    {
     "data": {
      "image/png": "[encoded data removed]",
      "text/plain": [
       "<Figure size 432x288 with 1 Axes>"
      ]
     },
     "metadata": {
      "needs_background": "light"
     },
     "output_type": "display_data"
    }
   ],
   "source": [
    "# 10 movies of your choice \n",
    "ten = np.zeros([2, 10])\n",
    "for i in range(2): \n",
    "    for j in range(10): \n",
    "        ten[i][j] = V_s[i][j]\n",
    "plt.scatter(ten[0], ten[1])\n",
    "plt.title(\"10 Movies of Choice\")\n",
    "plt.show"
   ]
  },
  {
   "cell_type": "code",
   "execution_count": 87,
   "metadata": {},
   "outputs": [
    {
     "data": {
      "text/plain": [
       "<function matplotlib.pyplot.show(*args, **kw)>"
      ]
     },
     "execution_count": 87,
     "metadata": {},
     "output_type": "execute_result"
    },
    {
     "data": {
      "image/png": "[encoded data removed]",
      "text/plain": [
       "<Figure size 432x288 with 1 Axes>"
      ]
     },
     "metadata": {
      "needs_background": "light"
     },
     "output_type": "display_data"
    }
   ],
   "source": [
    "ratings = load_data(\"/Users/Netra/Documents/Caltech2ndYear/2ndTerm/CS155/HW/MiniProject2/data/data.txt\")\n",
    "ratings = ratings.astype(int)\n",
    "# all ratings of ten most popular movies which recieved the most ratings\n",
    "x = np.transpose(ratings[:,1])\n",
    "counts = np.array(np.unique(x, return_counts = True)).T\n",
    "#print(counts)\n",
    "counts = counts[counts[:,1].argsort()]\n",
    "popular = counts[-10:,:]\n",
    "pop = np.zeros([2, 10])\n",
    "for i in range(2): \n",
    "    for j in range(10): \n",
    "        pop[i][j] = V_s[i][popular[j][0]]\n",
    "plt.scatter(pop[0], pop[1])\n",
    "plt.title(\"10 Popular Movies\")\n",
    "plt.show"
   ]
  },
  {
   "cell_type": "code",
   "execution_count": 97,
   "metadata": {},
   "outputs": [
    {
     "data": {
      "text/plain": [
       "<function matplotlib.pyplot.show(*args, **kw)>"
      ]
     },
     "execution_count": 97,
     "metadata": {},
     "output_type": "execute_result"
    },
    {
     "data": {
      "image/png": "[encoded data removed]",
      "text/plain": [
       "<Figure size 432x288 with 1 Axes>"
      ]
     },
     "metadata": {
      "needs_background": "light"
     },
     "output_type": "display_data"
    }
   ],
   "source": [
    "# all ratings of ten best movies with highest average ratings\n",
    "av = {}\n",
    "for i in range(len(ratings)):\n",
    "    name = ratings[i][1]\n",
    "    if name in av.keys():\n",
    "        #if the movie already in dictionary\n",
    "        av[name].append(ratings[i][2])\n",
    "        \n",
    "    else:\n",
    "        av[name] = [ratings[i][2]]\n",
    "\n",
    "for movie in av.keys():\n",
    "    #print(str(movie), \" \", str(np.mean(av[movie])))\n",
    "    av[movie] = np.mean(av[movie])\n",
    "\n",
    "av_movie_ratings = []\n",
    "for movie_id in av.keys():\n",
    "    av_movie_ratings.append([movie_id, av[movie_id]])\n",
    "    \n",
    "av_movie_ratings = np.asarray(av_movie_ratings)\n",
    "#print(av_movie_ratings)\n",
    "    \n",
    "# for i in range(len(av_movie_ratings)):\n",
    "#     print(av_movie_ratings[i])\n",
    "\n",
    "av_ratings = av_movie_ratings[av_movie_ratings[:,1].argsort()]\n",
    "\n",
    "\n",
    "# for i in range(len(av_counts)):\n",
    "#     print(av_ratings[i])\n",
    "\n",
    "popular2 = av_ratings[-10:, :]\n",
    "pop_best = np.zeros([2, 10])\n",
    "for i in range(2): \n",
    "    for j in range(10): \n",
    "        index = popular2[j][0]\n",
    "        pop_best[i][j] = V_s[i][int(index)]\n",
    "plt.scatter(pop_best[0], pop_best[1])\n",
    "plt.title(\"10 Best Movies\")\n",
    "plt.show\n"
   ]
  },
  {
   "cell_type": "code",
   "execution_count": 101,
   "metadata": {},
   "outputs": [
    {
     "data": {
      "text/plain": [
       "<function matplotlib.pyplot.show(*args, **kw)>"
      ]
     },
     "execution_count": 101,
     "metadata": {},
     "output_type": "execute_result"
    },
    {
     "data": {
      "image/png": "[encoded data removed]",
      "text/plain": [
       "<Figure size 432x288 with 1 Axes>"
      ]
     },
     "metadata": {
      "needs_background": "light"
     },
     "output_type": "display_data"
    }
   ],
   "source": [
    "#ratings of 3 different genres\n",
    "data = load_data(\"/Users/Netra/Documents/Caltech2ndYear/2ndTerm/CS155/HW/MiniProject2/data/movies.txt\")\n",
    "\n",
    "titles = data[:,0:2]\n",
    "genres = np.delete(data, 1, axis = 1)\n",
    "\n",
    "# Action Movies\n",
    "genre_1 = genres[:, 3]\n",
    "genre_1_movieid = []\n",
    "rating = []\n",
    "for i in range(len(genre_1)): \n",
    "    if genre_1[i] == '1': \n",
    "        genre_1_movieid.append(genres[i][0])\n",
    "m1 = np.zeros([2, 10])\n",
    "for i in range(2): \n",
    "    for j in range(10): \n",
    "        index = genre_1_movieid[j]\n",
    "        m1[i][j] = V_s[i][int(index)]\n",
    "plt.scatter(m1[0], m1[1])\n",
    "plt.title(\"10 Action Movies\")\n",
    "plt.show\n"
   ]
  },
  {
   "cell_type": "code",
   "execution_count": 102,
   "metadata": {},
   "outputs": [
    {
     "data": {
      "text/plain": [
       "<function matplotlib.pyplot.show(*args, **kw)>"
      ]
     },
     "execution_count": 102,
     "metadata": {},
     "output_type": "execute_result"
    },
    {
     "data": {
      "image/png": "[encoded data removed]",
      "text/plain": [
       "<Figure size 432x288 with 1 Axes>"
      ]
     },
     "metadata": {
      "needs_background": "light"
     },
     "output_type": "display_data"
    }
   ],
   "source": [
    "# Animation Movies\n",
    "genre_2 = genres[:, 5]\n",
    "genre_2_movieid = []\n",
    "rating2 = []\n",
    "for i in range(len(genre_2)): \n",
    "    if genre_2[i] == '1': \n",
    "        genre_2_movieid.append(genres[i][0])\n",
    "m2 = np.zeros([2, 10])\n",
    "for i in range(2): \n",
    "    for j in range(10): \n",
    "        index = genre_2_movieid[j]\n",
    "        m2[i][j] = V_s[i][int(index)]\n",
    "plt.scatter(m2[0], m2[1])\n",
    "plt.title(\"10 Animation Movies\")\n",
    "plt.show"
   ]
  },
  {
   "cell_type": "code",
   "execution_count": 104,
   "metadata": {},
   "outputs": [
    {
     "data": {
      "text/plain": [
       "<function matplotlib.pyplot.show(*args, **kw)>"
      ]
     },
     "execution_count": 104,
     "metadata": {},
     "output_type": "execute_result"
    },
    {
     "data": {
      "image/png": "[encoded data removed]",
      "text/plain": [
       "<Figure size 432x288 with 1 Axes>"
      ]
     },
     "metadata": {
      "needs_background": "light"
     },
     "output_type": "display_data"
    }
   ],
   "source": [
    "genre_3 = genres[:, 7]\n",
    "genre_3_movieid = []\n",
    "rating3 = []\n",
    "for i in range(len(genre_3)): \n",
    "    if genre_3[i] == '1': \n",
    "        genre_3_movieid.append(genres[i][0])\n",
    "m3 = np.zeros([2, 10])\n",
    "for i in range(2): \n",
    "    for j in range(10): \n",
    "        index = genre_3_movieid[j]\n",
    "        m3[i][j] = V_s[i][int(index)]\n",
    "plt.scatter(m3[0], m3[1])\n",
    "plt.title(\"10 Comedy Movies\")\n",
    "plt.show"
   ]
  }
 ],
 "metadata": {
  "kernelspec": {
   "display_name": "Python 3",
   "language": "python",
   "name": "python3"
  },
  "language_info": {
   "codemirror_mode": {
    "name": "ipython",
    "version": 3
   },
   "file_extension": ".py",
   "mimetype": "text/x-python",
   "name": "python",
   "nbconvert_exporter": "python",
   "pygments_lexer": "ipython3",
   "version": "3.7.1"
  }
 },
 "nbformat": 4,
 "nbformat_minor": 2
}
