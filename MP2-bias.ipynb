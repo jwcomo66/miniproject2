{
 "cells": [
  {
   "cell_type": "code",
   "execution_count": 74,
   "metadata": {},
   "outputs": [],
   "source": [
    "# Solution set for CS 155 Set 6, 2016/2017\n",
    "# Authors: Fabian Boemer, Sid Murching, Suraj Nair\n",
    "\n",
    "import numpy as np\n",
    "import math\n",
    "import random\n",
    "import numpy as np\n",
    "import matplotlib.pyplot as plt\n",
    "from sklearn.model_selection import train_test_split\n",
    "\n",
    "def grad_U(Ui, Yij, Vj, reg, eta, ai, bj):\n",
    "    \"\"\"\n",
    "    Takes as input Ui (the ith row of U), a training point Yij, the column\n",
    "    vector Vj (jth column of V^T), reg (the regularization parameter lambda),\n",
    "    and eta (the learning rate).\n",
    "\n",
    "    Returns the gradient of the regularized loss function with\n",
    "    respect to Ui multiplied by eta.\n",
    "    \"\"\"\n",
    "    first = reg * Ui\n",
    "    second = Vj * (Yij - (np.dot(Ui, Vj) + ai + bj))\n",
    "    grad = eta * (first - second)\n",
    "    return grad"
   ]
  },
  {
   "cell_type": "code",
   "execution_count": 75,
   "metadata": {},
   "outputs": [],
   "source": [
    "def load_data(filename):\n",
    "    \"\"\"\n",
    "    Function loads data stored in the file filename and returns it as a numpy ndarray.\n",
    "    \n",
    "    Inputs:\n",
    "        filename: given as a string.\n",
    "        \n",
    "    Outputs:\n",
    "        Data contained in the file, returned as a numpy ndarray\n",
    "    \"\"\"\n",
    "    return np.loadtxt(filename, dtype = np.str , delimiter='\\t')"
   ]
  },
  {
   "cell_type": "code",
   "execution_count": 76,
   "metadata": {},
   "outputs": [],
   "source": [
    "def grad_V(Vj, Yij, Ui, reg, eta, ai, bj):\n",
    "    \"\"\"\n",
    "    Takes as input the column vector Vj (jth column of V^T), a training point Yij,\n",
    "    Ui (the ith row of U), reg (the regularization parameter lambda),\n",
    "    and eta (the learning rate).\n",
    "\n",
    "    Returns the gradient of the regularized loss function with\n",
    "    respect to Vj multiplied by eta.\n",
    "    \"\"\"\n",
    "    first = reg * Vj\n",
    "    second = Ui * (Yij - (np.dot(Ui, Vj) + ai + bj))\n",
    "    grad = eta* (first - second)\n",
    "    return grad"
   ]
  },
  {
   "cell_type": "code",
   "execution_count": 77,
   "metadata": {},
   "outputs": [],
   "source": [
    "def get_err(U, V, Y, reg, a , b, m):\n",
    "    \"\"\"\n",
    "    Takes as input a matrix Y of triples (i, j, Y_ij) where i is the index of a user,\n",
    "    j is the index of a movie, and Y_ij is user i's rating of movie j and\n",
    "    user/movie matrices U and V.\n",
    "\n",
    "    Returns the mean regularized squared-error of predictions made by\n",
    "    estimating Y_{ij} as the dot product of the ith row of U and the jth column of V^T.\n",
    "    \"\"\"\n",
    "    summation = 0\n",
    "    U_val = np.linalg.norm(U)\n",
    "    V_val = np.linalg.norm(V)\n",
    "    for x in range (len(Y)): \n",
    "        i = Y[x][0] - 1\n",
    "        j = Y[x][1] - 1\n",
    "        yij = Y[x][2] - 1\n",
    "        dot = np.dot(U[i], V[j])\n",
    "        summation += (yij - (dot + a[i] + b[j])) ** 2\n",
    "    return (reg/2) * ((U_val)**2 + (V_val)**2) + (summation/2)"
   ]
  },
  {
   "cell_type": "code",
   "execution_count": 84,
   "metadata": {},
   "outputs": [],
   "source": [
    "def grad_a(Ui, Yij, Vj, reg, eta, ai, bj): \n",
    "    return 2 * (eta/10) * (Yij - (np.dot(Ui, Vj) + ai + bj))"
   ]
  },
  {
   "cell_type": "code",
   "execution_count": 85,
   "metadata": {},
   "outputs": [],
   "source": [
    "def grad_b(Ui, Yij, Vj, reg, eta, ai, bj): \n",
    "    return 2 * (eta/10) * (Yij - (np.dot(Ui, Vj) + ai + bj))"
   ]
  },
  {
   "cell_type": "code",
   "execution_count": 80,
   "metadata": {},
   "outputs": [],
   "source": [
    "def train_model(M, N, K, eta, reg, Y, m, eps=0.0001, max_epochs=300):\n",
    "    \"\"\"\n",
    "    Given a training data matrix Y containing rows (i, j, Y_ij)\n",
    "    where Y_ij is user i's rating on movie j, learns an\n",
    "    M x K matrix U and N x K matrix V such that rating Y_ij is approximated\n",
    "    by (UV^T)_ij.\n",
    "\n",
    "    Uses a learning rate of <eta> and regularization of <reg>. Stops after\n",
    "    <max_epochs> epochs, or once the magnitude of the decrease in regularized\n",
    "    MSE between epochs is smaller than a fraction <eps> of the decrease in\n",
    "    MSE after the first epoch.\n",
    "\n",
    "    Returns a tuple (U, V, err) consisting of U, V, and the unregularized MSE\n",
    "    of the model.\n",
    "    \"\"\"\n",
    "    U = np.random.uniform(-0.5, 0.5, (M, K))\n",
    "    V = np.random.uniform(-0.5, 0.5, (N, K))\n",
    "    # a is user bias\n",
    "    a = np.full((M, 1), 0.1)\n",
    "    # b is movie bias\n",
    "    b = np.full((N, 1), 0.1)\n",
    "    first_loss = get_err(U, V, Y, reg, a, b, m)\n",
    "    for epoch in range(max_epochs): \n",
    "        print(\"epoch: \", epoch)\n",
    "        Y_shuffle = np.random.permutation(Y)\n",
    "        prev_loss = get_err(U, V, Y, reg, a, b, m)\n",
    "        for x in range (len(Y)): \n",
    "            i = Y_shuffle[x][0] - 1\n",
    "            j = Y_shuffle[x][1] - 1\n",
    "            y = Y_shuffle[x][2] - 1\n",
    "            U[i] -= grad_U(U[i], y, V[j], reg, eta, a[i], b[j])\n",
    "            V[j] -= grad_V(V[j], y, U[i], reg, eta, a[i], b[j])\n",
    "            a[i] -= grad_a(U[i], y, V[j], reg, eta, a[i], b[j])\n",
    "            b[j] -= grad_b(U[i], y, V[j], reg, eta, a[i], b[j])\n",
    "        if (epoch == 0): \n",
    "            first_loss -= get_err(U, V, Y, reg, a , b, m)\n",
    "        else: \n",
    "            error_diff = prev_loss - get_err(U, V, Y, reg, a, b, m)\n",
    "            if (error_diff/first_loss) <= eps: \n",
    "                return (U, V, get_err(U, V, Y, reg, a, b, m)/len(Y), a, b)\n",
    "    error = get_err(U, V, Y, reg, a, b, m)/len(Y)\n",
    "    return (U, V, error, a , b)"
   ]
  },
  {
   "cell_type": "code",
   "execution_count": 81,
   "metadata": {},
   "outputs": [],
   "source": [
    "def get_m(y_train): \n",
    "    avg = 0\n",
    "    for i in y_train: \n",
    "        avg += i[2]\n",
    "    return avg/len(y_train)"
   ]
  },
  {
   "cell_type": "code",
   "execution_count": 86,
   "metadata": {},
   "outputs": [
    {
     "name": "stdout",
     "output_type": "stream",
     "text": [
      "Factorizing with  943  users,  1682  movies.\n"
     ]
    }
   ],
   "source": [
    "Y_train = load_data(\"/Users/Netra/Documents/Caltech2ndYear/2ndTerm/CS155/HW/MiniProject2/data/train.txt\")\n",
    "Y_test = load_data(\"/Users/Netra/Documents/Caltech2ndYear/2ndTerm/CS155/HW/MiniProject2/data/test.txt\")\n",
    "Y_train = np.array([list(map(int, x)) for x in Y_train])\n",
    "Y_test = np.array([list(map(int, x)) for x in Y_test])\n",
    "m = get_m(Y_train)\n",
    "M = max(max(Y_train[:,0]), max(Y_test[:,0])) # users\n",
    "N = max(max(Y_train[:,1]), max(Y_test[:,1])) # movies\n",
    "print(\"Factorizing with \", M, \" users, \", N, \" movies.\")\n",
    "Ks = [10,20,30,50,100]\n",
    "reg = 0.0\n",
    "eta = 0.03 # learning rate\n",
    "E_in = []\n",
    "E_out = []\n",
    "Ein = 0\n",
    "Eout = 0"
   ]
  },
  {
   "cell_type": "code",
   "execution_count": null,
   "metadata": {},
   "outputs": [
    {
     "name": "stdout",
     "output_type": "stream",
     "text": [
      "epoch:  0\n",
      "epoch:  1\n",
      "epoch:  2\n",
      "epoch:  3\n",
      "epoch:  4\n"
     ]
    }
   ],
   "source": [
    "reg = 0\n",
    "result = train_model(M, N, 20, eta, reg, Y_train, m)\n",
    "U = result[0]\n",
    "V = result[1]\n",
    "err = result[2]\n",
    "a = result[3]\n",
    "b = result[4]\n",
    "Ein = err\n",
    "reg = 0\n",
    "Eout = get_err(U, V, Y_test, reg, a , b, m)/len(Y_test)"
   ]
  },
  {
   "cell_type": "code",
   "execution_count": null,
   "metadata": {},
   "outputs": [],
   "source": [
    "print(\"Ein: \", Ein)\n",
    "print(\"Eout: \", Eout)"
   ]
  },
  {
   "cell_type": "code",
   "execution_count": null,
   "metadata": {},
   "outputs": [],
   "source": []
  }
 ],
 "metadata": {
  "kernelspec": {
   "display_name": "Python 3",
   "language": "python",
   "name": "python3"
  },
  "language_info": {
   "codemirror_mode": {
    "name": "ipython",
    "version": 3
   },
   "file_extension": ".py",
   "mimetype": "text/x-python",
   "name": "python",
   "nbconvert_exporter": "python",
   "pygments_lexer": "ipython3",
   "version": "3.7.1"
  }
 },
 "nbformat": 4,
 "nbformat_minor": 2
}
