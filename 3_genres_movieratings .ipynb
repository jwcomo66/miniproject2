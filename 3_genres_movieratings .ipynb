{
 "cells": [
  {
   "cell_type": "code",
   "execution_count": 2,
   "metadata": {},
   "outputs": [],
   "source": [
    "# Visualise all ratings in MovieLens Dataset\n",
    "# all ratings of ten most popular movies which recieved the most ratings\n",
    "# all ratings of ten best movies with highest average ratings\n",
    "# all ratings of movies from three genres of your choice (three separate visualizations)\n",
    "import matplotlib.pyplot as plt\n",
    "import numpy as np"
   ]
  },
  {
   "cell_type": "code",
   "execution_count": 3,
   "metadata": {},
   "outputs": [],
   "source": [
    "def load_data(filename):\n",
    "    \"\"\"\n",
    "    Function loads data stored in the file filename and returns it as a numpy ndarray.\n",
    "    \n",
    "    Inputs:\n",
    "        filename: given as a string.\n",
    "        \n",
    "    Outputs:\n",
    "        Data contained in the file, returned as a numpy ndarray\n",
    "    \"\"\"\n",
    "    return np.loadtxt(filename, dtype = np.str , delimiter='\\t')"
   ]
  },
  {
   "cell_type": "code",
   "execution_count": 4,
   "metadata": {},
   "outputs": [
    {
     "name": "stdout",
     "output_type": "stream",
     "text": [
      "[['1' '0' '0' ... '0' '0' '0']\n",
      " ['2' '0' '1' ... '1' '0' '0']\n",
      " ['3' '0' '0' ... '1' '0' '0']\n",
      " ...\n",
      " ['1680' '0' '0' ... '0' '0' '0']\n",
      " ['1681' '0' '0' ... '0' '0' '0']\n",
      " ['1682' '0' '0' ... '0' '0' '0']]\n",
      "[[ 196  242    3]\n",
      " [ 186  302    3]\n",
      " [  22  377    1]\n",
      " ...\n",
      " [ 276 1090    1]\n",
      " [  13  225    2]\n",
      " [  12  203    3]]\n"
     ]
    }
   ],
   "source": [
    "data = load_data(\"/Users/Netra/Documents/Caltech2ndYear/2ndTerm/CS155/HW/MiniProject2/data/movies.txt\")\n",
    "\n",
    "titles = data[:,0:2]\n",
    "genres = np.delete(data, 1, axis = 1)\n",
    "print(genres)\n",
    "\n",
    "ratings = load_data(\"/Users/Netra/Documents/Caltech2ndYear/2ndTerm/CS155/HW/MiniProject2/data/data.txt\")\n",
    "ratings = ratings.astype(int)\n",
    "print(ratings)"
   ]
  },
  {
   "cell_type": "code",
   "execution_count": 5,
   "metadata": {},
   "outputs": [
    {
     "data": {
      "text/plain": [
       "Text(0, 0.5, 'Frequency')"
      ]
     },
     "execution_count": 5,
     "metadata": {},
     "output_type": "execute_result"
    },
    {
     "data": {
      "image/png": "[encoded data removed]",
      "text/plain": [
       "<Figure size 432x288 with 1 Axes>"
      ]
     },
     "metadata": {
      "needs_background": "light"
     },
     "output_type": "display_data"
    }
   ],
   "source": [
    "#ratings of 3 different genres \n",
    "genre_1 = genres[:, 3]\n",
    "genre_1_movieid = []\n",
    "rating = []\n",
    "for i in range(len(genre_1)): \n",
    "    if genre_1[i] == '1': \n",
    "        genre_1_movieid.append(genres[i][0])\n",
    "for i_d in range(len(ratings)): \n",
    "    for movie_id in genre_1_movieid: \n",
    "        if int(movie_id) == ratings[i_d][1]: \n",
    "            rating.append(ratings[i_d][2])\n",
    "plt.hist(rating, bins = [.5, 1.5, 2.5, 3.5, 4.5, 5.5], rwidth = .7, color = 'brown')\n",
    "plt.title(\"Histogram of Movie Ratings of Adventure Movies\")\n",
    "plt.xlabel(\"Rating\")\n",
    "plt.ylabel(\"Frequency\")"
   ]
  },
  {
   "cell_type": "code",
   "execution_count": 6,
   "metadata": {},
   "outputs": [
    {
     "data": {
      "text/plain": [
       "Text(0, 0.5, 'Frequency')"
      ]
     },
     "execution_count": 6,
     "metadata": {},
     "output_type": "execute_result"
    },
    {
     "data": {
      "image/png": "[encoded data removed]",
      "text/plain": [
       "<Figure size 432x288 with 1 Axes>"
      ]
     },
     "metadata": {
      "needs_background": "light"
     },
     "output_type": "display_data"
    }
   ],
   "source": [
    "genre_2 = genres[:, 5]\n",
    "genre_2_movieid = []\n",
    "rating2 = []\n",
    "for i in range(len(genre_2)): \n",
    "    if genre_2[i] == '1': \n",
    "        genre_2_movieid.append(genres[i][0])\n",
    "for i_d in range(len(ratings)): \n",
    "    for movie_id in genre_2_movieid: \n",
    "        if int(movie_id) == ratings[i_d][1]: \n",
    "            rating2.append(ratings[i_d][2])\n",
    "plt.hist(rating2, bins = [.5, 1.5, 2.5, 3.5, 4.5, 5.5], rwidth = .7, color = 'brown')\n",
    "plt.title(\"Histogram of Movie Ratings of Children's Movies\")\n",
    "plt.xlabel(\"Rating\")\n",
    "plt.ylabel(\"Frequency\")"
   ]
  },
  {
   "cell_type": "code",
   "execution_count": 7,
   "metadata": {},
   "outputs": [
    {
     "data": {
      "text/plain": [
       "Text(0, 0.5, 'Frequency')"
      ]
     },
     "execution_count": 7,
     "metadata": {},
     "output_type": "execute_result"
    },
    {
     "data": {
      "image/png": "[encoded data removed]",
      "text/plain": [
       "<Figure size 432x288 with 1 Axes>"
      ]
     },
     "metadata": {
      "needs_background": "light"
     },
     "output_type": "display_data"
    }
   ],
   "source": [
    "genre_3 = genres[:, 7]\n",
    "genre_3_movieid = []\n",
    "rating3 = []\n",
    "for i in range(len(genre_3)): \n",
    "    if genre_3[i] == '1': \n",
    "        genre_3_movieid.append(genres[i][0])\n",
    "for i_d in range(len(ratings)): \n",
    "    for movie_id in genre_3_movieid: \n",
    "        if int(movie_id) == ratings[i_d][1]: \n",
    "            rating3.append(ratings[i_d][2])\n",
    "plt.hist(rating3, bins = [.5, 1.5, 2.5, 3.5, 4.5, 5.5], rwidth = .7, color = 'brown')\n",
    "plt.title(\"Histogram of Movie Ratings of Crime Movies\")\n",
    "plt.xlabel(\"Rating\")\n",
    "plt.ylabel(\"Frequency\")"
   ]
  },
  {
   "cell_type": "code",
   "execution_count": null,
   "metadata": {},
   "outputs": [],
   "source": []
  },
  {
   "cell_type": "code",
   "execution_count": null,
   "metadata": {},
   "outputs": [],
   "source": []
  }
 ],
 "metadata": {
  "kernelspec": {
   "display_name": "Python 3",
   "language": "python",
   "name": "python3"
  },
  "language_info": {
   "codemirror_mode": {
    "name": "ipython",
    "version": 3
   },
   "file_extension": ".py",
   "mimetype": "text/x-python",
   "name": "python",
   "nbconvert_exporter": "python",
   "pygments_lexer": "ipython3",
   "version": "3.7.1"
  }
 },
 "nbformat": 4,
 "nbformat_minor": 2
}
